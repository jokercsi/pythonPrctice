{
 "cells": [
  {
   "cell_type": "code",
   "execution_count": 1,
   "metadata": {},
   "outputs": [
    {
     "name": "stdout",
     "output_type": "stream",
     "text": [
      "hello world\n"
     ]
    }
   ],
   "source": [
    "print(\"hello world\")"
   ]
  },
  {
   "cell_type": "code",
   "execution_count": 5,
   "metadata": {},
   "outputs": [
    {
     "name": "stdout",
     "output_type": "stream",
     "text": [
      "The Zen of Python, by Tim Peters\n",
      "\n",
      "Beautiful is better than ugly.\n",
      "Explicit is better than implicit.\n",
      "Simple is better than complex.\n",
      "Complex is better than complicated.\n",
      "Flat is better than nested.\n",
      "Sparse is better than dense.\n",
      "Readability counts.\n",
      "Special cases aren't special enough to break the rules.\n",
      "Although practicality beats purity.\n",
      "Errors should never pass silently.\n",
      "Unless explicitly silenced.\n",
      "In the face of ambiguity, refuse the temptation to guess.\n",
      "There should be one-- and preferably only one --obvious way to do it.\n",
      "Although that way may not be obvious at first unless you're Dutch.\n",
      "Now is better than never.\n",
      "Although never is often better than *right* now.\n",
      "If the implementation is hard to explain, it's a bad idea.\n",
      "If the implementation is easy to explain, it may be a good idea.\n",
      "Namespaces are one honking great idea -- let's do more of those!\n"
     ]
    }
   ],
   "source": [
    "# 유명한 문구\n",
    "import this"
   ]
  },
  {
   "cell_type": "code",
   "execution_count": 4,
   "metadata": {
    "scrolled": true
   },
   "outputs": [
    {
     "name": "stdout",
     "output_type": "stream",
     "text": [
      "1\n",
      "6\n",
      "7\n",
      "5\n",
      "6\n",
      "7\n",
      "8\n",
      "8\n",
      "9\n",
      "9\n",
      "10\n",
      "1\n",
      "2\n",
      "6\n",
      "8\n",
      "5\n",
      "7\n",
      "7\n",
      "9\n",
      "8\n",
      "10\n",
      "9\n",
      "11\n",
      "2\n",
      "3\n",
      "6\n",
      "9\n",
      "5\n",
      "8\n",
      "7\n",
      "10\n",
      "8\n",
      "11\n",
      "9\n",
      "12\n",
      "3\n",
      "4\n",
      "6\n",
      "10\n",
      "5\n",
      "9\n",
      "7\n",
      "11\n",
      "8\n",
      "12\n",
      "9\n",
      "13\n",
      "4\n",
      "5\n",
      "6\n",
      "11\n",
      "5\n",
      "10\n",
      "7\n",
      "12\n",
      "8\n",
      "13\n",
      "9\n",
      "14\n",
      "5\n",
      "done looping\n"
     ]
    }
   ],
   "source": [
    "for i in [1, 2, 3, 4, 5]:\n",
    "    print(i)                     # first line in \"for i\" block \n",
    "    for j in [6, 5, 7, 8, 9]:\n",
    "        print(j)                 # first line in \"for j\" block\n",
    "        print(i + j)             # last line in \"for j\" block\n",
    "    print(i)                     # last line in \"for i\" block\n",
    "print(\"done looping\")"
   ]
  },
  {
   "cell_type": "code",
   "execution_count": 5,
   "metadata": {
    "scrolled": true
   },
   "outputs": [
    {
     "name": "stdout",
     "output_type": "stream",
     "text": [
      "x: 4.5 y: 1.2\n"
     ]
    }
   ],
   "source": [
    "x=4.5\n",
    "y=1.2\n",
    "print(f'x: {x} y: {y}')"
   ]
  },
  {
   "cell_type": "code",
   "execution_count": 16,
   "metadata": {},
   "outputs": [
    {
     "name": "stdout",
     "output_type": "stream",
     "text": [
      "123\n"
     ]
    }
   ],
   "source": [
    "#regular expression이라는 모듈.\n",
    "\n",
    "import re\n",
    "result = re.match(\"[a-z]+.*(123)$\",\"a-123\")\n",
    "print(result.group(1))"
   ]
  },
  {
   "cell_type": "code",
   "execution_count": 33,
   "metadata": {},
   "outputs": [
    {
     "data": {
      "text/plain": [
       "2"
      ]
     },
     "execution_count": 33,
     "metadata": {},
     "output_type": "execute_result"
    }
   ],
   "source": [
    "def multiple(x):\n",
    "    return x*2\n",
    "\n",
    "#fx = 함수라고 가정\n",
    "def apply_to_one(fx):\n",
    "    return fx(1)\n",
    "    \n",
    "apply_to_one(multiple)"
   ]
  }
 ],
 "metadata": {
  "kernelspec": {
   "display_name": "Python 3",
   "language": "python",
   "name": "python3"
  },
  "language_info": {
   "codemirror_mode": {
    "name": "ipython",
    "version": 3
   },
   "file_extension": ".py",
   "mimetype": "text/x-python",
   "name": "python",
   "nbconvert_exporter": "python",
   "pygments_lexer": "ipython3",
   "version": "3.8.5"
  }
 },
 "nbformat": 4,
 "nbformat_minor": 4
}
